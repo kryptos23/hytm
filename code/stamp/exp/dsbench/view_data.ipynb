{
 "cells": [
  {
   "cell_type": "markdown",
   "metadata": {},
   "source": [
    "# Viewing existing data\n",
    "\n",
    "This Jupyter notebook allows you to easily view any data you have *already* produced by running `run_testing.sh` or `run_production.sh`.\n",
    "\n",
    "Simply run the following code cell and peruse the displayed HTML site and/or data frame. Note that you can click on graphs to `drill down` into the data.\n",
    "\n",
    "(In general, you should manually inspect the `PNG` and `HTML` files in the `data` subfolder for full control.)"
   ]
  },
  {
   "cell_type": "code",
   "execution_count": null,
   "metadata": {},
   "outputs": [],
   "source": [
    "import sys ; sys.path.append('../../tools/data_framework') ; from run_experiment import *\n",
    "init_for_jupyter('exp_definition.py')\n",
    "\n",
    "show_html('data/index.html')\n",
    "display(select_to_dataframe('select * from data'))"
   ]
  },
  {
   "cell_type": "code",
   "execution_count": null,
   "metadata": {},
   "outputs": [],
   "source": [
    "import sys ; sys.path.append('../../tools/data_framework') ; from run_experiment import *\n",
    "init_for_jupyter('exp_definition.py')\n",
    "shell_to_list('cat data/data000001.txt', sep='\\n')"
   ]
  },
  {
   "cell_type": "code",
   "execution_count": null,
   "metadata": {
    "tags": []
   },
   "outputs": [],
   "source": [
    "import sys ; sys.path.append('../../tools/data_framework') ; from run_experiment import *\n",
    "disable_tee_stdout()\n",
    "do_all('exp_definition.py --production --no-compile --no-run --no-createdb --do-plot --do-pages'.split(' '))\n",
    "show_html('data/index.html')\n",
    "enable_tee_stdout()"
   ]
  },
  {
   "cell_type": "code",
   "execution_count": null,
   "metadata": {},
   "outputs": [],
   "source": [
    "import sys ; sys.path.append('../../tools/data_framework') ; from run_experiment import *\n",
    "init_for_jupyter('exp_definition.py') ; plt.style.use('dark_background')\n",
    "\n",
    "where = 'where maxkey == 100000 and insdel == 0'\n",
    "df = select_to_dataframe('select * from data {}'.format(where))\n",
    "plot_rc(data=df, row='thread_pinning', col='rq_threads', series='alg', x='total_threads', y='throughput', plot_func=sns.lineplot, facetgrid_kwargs=dict(sharey=False), plot_kwargs=dict(ci=100))\n",
    "\n",
    "#display(select_to_dataframe('select thread_pinning, rq_threads, alg, total_threads, throughput from data {}'.format(where)))"
   ]
  },
  {
   "cell_type": "code",
   "execution_count": null,
   "metadata": {},
   "outputs": [],
   "source": []
  }
 ],
 "metadata": {
  "language_info": {
   "codemirror_mode": {
    "name": "ipython",
    "version": 3
   },
   "file_extension": ".py",
   "mimetype": "text/x-python",
   "name": "python",
   "nbconvert_exporter": "python",
   "pygments_lexer": "ipython3",
   "version": 3
  },
  "orig_nbformat": 2,
  "kernelspec": {
   "name": "python_defaultSpec_1595343684364",
   "display_name": "Python 3.6.9 64-bit"
  }
 },
 "nbformat": 4,
 "nbformat_minor": 2
}